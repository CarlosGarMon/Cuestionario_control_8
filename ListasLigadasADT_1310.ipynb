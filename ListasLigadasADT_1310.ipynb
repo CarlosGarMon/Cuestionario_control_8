{
  "nbformat": 4,
  "nbformat_minor": 0,
  "metadata": {
    "colab": {
      "name": "ListasLigadasADT_1310.ipynb",
      "provenance": [],
      "collapsed_sections": [],
      "authorship_tag": "ABX9TyMHeJ+D7flktaRIwe2g14wj",
      "include_colab_link": true
    },
    "kernelspec": {
      "name": "python3",
      "display_name": "Python 3"
    },
    "language_info": {
      "name": "python"
    }
  },
  "cells": [
    {
      "cell_type": "markdown",
      "metadata": {
        "id": "view-in-github",
        "colab_type": "text"
      },
      "source": [
        "<a href=\"https://colab.research.google.com/github/CarlosGarMon/Cuestionario_control_8/blob/main/ListasLigadasADT_1310.ipynb\" target=\"_parent\"><img src=\"https://colab.research.google.com/assets/colab-badge.svg\" alt=\"Open In Colab\"/></a>"
      ]
    },
    {
      "cell_type": "markdown",
      "metadata": {
        "id": "9d6ijgI10joJ"
      },
      "source": [
        "#Ejercicios con la clase Nodo\n",
        "- Crear un nodo 10\n",
        "    - Imprimir el valor del nodo\n",
        "- Crear dos nodos 10, 20\n",
        "    - Imprimir el valor del primero\n",
        "    - Imprimir el valor del segundo \n",
        "    - Transversal \n",
        "- Lo mismo pero con 4 nodos 10, 20, 30, 40\n",
        "    - Imprimir el valor del primero \n",
        "    - Imprimir el valor del último \n",
        "    - Transversal \n",
        "    - Insertar el nodo \"25\" después del nodo \"20\" y antes del nodo \"30\"\n",
        "### Todo esto antes de ir a la escritura formal del ADT Lista Ligada"
      ]
    },
    {
      "cell_type": "code",
      "metadata": {
        "id": "aK0FV39o0dwa"
      },
      "source": [
        "class Nodo:\n",
        "    def __init__( self, value, siguiente = None ):\n",
        "        self.data = value \n",
        "        self.next = siguiente"
      ],
      "execution_count": 1,
      "outputs": []
    },
    {
      "cell_type": "code",
      "metadata": {
        "colab": {
          "base_uri": "https://localhost:8080/"
        },
        "id": "iT2qPK5d1tNf",
        "outputId": "b7fe4005-08bb-4c78-91ff-eca084759dcc"
      },
      "source": [
        "head = Nodo(10) #Así creamos un nodo\n",
        "print( head.data ) #Imprimimos el valor del nodo"
      ],
      "execution_count": 2,
      "outputs": [
        {
          "output_type": "stream",
          "name": "stdout",
          "text": [
            "10\n"
          ]
        }
      ]
    },
    {
      "cell_type": "code",
      "metadata": {
        "colab": {
          "base_uri": "https://localhost:8080/"
        },
        "id": "tWusWhDd2gHw",
        "outputId": "7f4bb3a7-d039-4ded-ccf3-52304d3511bf"
      },
      "source": [
        "head = Nodo(10)\n",
        "head.next = Nodo(20)\n",
        "print(f\"Primero = { head.data }\")\n",
        "print(f\"Segundo = { head.next.data }\")\n",
        "print(\"------------------------\")\n",
        "#Lo mismo pero ahorrando código \n",
        "head = Nodo( 10, Nodo(20) )\n",
        "print(f\"Primero = { head.data }\")\n",
        "print(f\"Segundo = { head.next.data }\")\n",
        "\n",
        "#Transversal\n",
        "curr_node = head\n",
        "while curr_node != None:\n",
        "    print(f\"| {curr_node.data } | ---> \", end = '')\n",
        "    curr_node = curr_node.next\n",
        "print(\"\")"
      ],
      "execution_count": 3,
      "outputs": [
        {
          "output_type": "stream",
          "name": "stdout",
          "text": [
            "Primero = 10\n",
            "Segundo = 20\n",
            "------------------------\n",
            "Primero = 10\n",
            "Segundo = 20\n",
            "| 10 | ---> | 20 | ---> \n"
          ]
        }
      ]
    },
    {
      "cell_type": "code",
      "metadata": {
        "colab": {
          "base_uri": "https://localhost:8080/"
        },
        "id": "ju5RPMdM66lJ",
        "outputId": "88890dcd-45e1-491c-8b92-a1d858ca05aa"
      },
      "source": [
        "head = Nodo(10, Nodo(20,Nodo(30,Nodo (40))))\n",
        "#Transversal\n",
        "curr_node = head\n",
        "while curr_node != None:\n",
        "    print(f\"| {curr_node.data } | ---> \", end = '')\n",
        "    curr_node = curr_node.next\n",
        "print(\"\")\n",
        "\n",
        "#Imprimir el primero\n",
        "print(head.data)\n",
        "#Imprimir el último \n",
        "curr_node = head \n",
        "while curr_node.next != None: #Mientas que el próximo nodo no sea el None\n",
        "    curr_node = curr_node.next #Se queda en la posición del ultimo nodo no vacío \n",
        "print(curr_node.data)\n",
        "\n",
        "#Insertar el nodo \"25\" después del nodo \"20\" y antes del nodo \"30\"\n",
        "curr_node = head \n",
        "while curr_node.data != 20:\n",
        "    curr_node = curr_node.next\n",
        "print(curr_node.data)\n",
        "\n",
        "#Crear el nodo \"25\"\n",
        "curr_node.next = Nodo(25, curr_node.next)\n",
        "\n",
        "#Imprimimos Transversa\n",
        "curr_node = head\n",
        "while curr_node != None:\n",
        "    print(f\"| {curr_node.data } | ---> \", end = '')\n",
        "    curr_node = curr_node.next\n",
        "print(\"\")"
      ],
      "execution_count": 9,
      "outputs": [
        {
          "output_type": "stream",
          "name": "stdout",
          "text": [
            "| 10 | ---> | 20 | ---> | 30 | ---> | 40 | ---> \n",
            "10\n",
            "40\n",
            "20\n",
            "| 10 | ---> | 20 | ---> | 25 | ---> | 30 | ---> | 40 | ---> \n"
          ]
        }
      ]
    },
    {
      "cell_type": "code",
      "metadata": {
        "id": "LIME-u9kclKB"
      },
      "source": [
        "class Nodo:\n",
        "    def __init__( self, value, siguiente = None ):\n",
        "        self.data = value \n",
        "        self.next = siguiente\n",
        "\n",
        "class LinkedList:\n",
        "    def __init__( self ):\n",
        "        self.head = None \n",
        "\n",
        "    def is_empty( self ):\n",
        "        return self.head == None \n",
        "\n",
        "    def get_tail( self ):\n",
        "        if self.is_empty():\n",
        "            return None\n",
        "        else:\n",
        "            curr_node = self.head \n",
        "            while curr_node.next != None: \n",
        "                curr_node = curr_node.next\n",
        "            return curr_node\n",
        "    \n",
        "    def append( self, value ):\n",
        "        if self.head == None:\n",
        "            self.head = Nodo( value )\n",
        "        else:\n",
        "            curr_node = self.head\n",
        "            while curr_node.next != None:\n",
        "                curr_node = curr_node.next\n",
        "            curr_node.next = Nodo( value )\n",
        "\n",
        "    def transversal ( self ):\n",
        "        curr_node = self.head\n",
        "        while curr_node != None:\n",
        "            print(f\"| {curr_node.data} | --> \", end = \"\")\n",
        "            curr_node = curr_node.next\n",
        "        print(\"\")\n",
        "\n",
        "    def remove( self, value ):\n",
        "        if self.head == None:\n",
        "            print(\"Lista vacía, no se puede remover nada\")\n",
        "        else: \n",
        "            curr_node = self.head\n",
        "            aux = None \n",
        "            while curr_node.data != value: #Revisar cuando el valor no existe\n",
        "                aux = curr_node\n",
        "                curr_node = curr_node.next\n",
        "            \n",
        "            if curr_node != None:\n",
        "                aux.next = curr_node.next\n",
        "                curr_node = None\n",
        "\n",
        "    def preppend( self, value ):\n",
        "        if self.head == None:\n",
        "            print(\"Está vacío, no se puede hacer preppend\")\n",
        "        else:\n",
        "            self.head = Nodo( value, self.head )\n",
        "\n"
      ],
      "execution_count": 41,
      "outputs": []
    },
    {
      "cell_type": "code",
      "metadata": {
        "colab": {
          "base_uri": "https://localhost:8080/"
        },
        "id": "n9p7c1thfdBR",
        "outputId": "63cf8689-9c28-4604-d7db-1981a3daddb0"
      },
      "source": [
        "lista = LinkedList()\n",
        "if lista.is_empty():\n",
        "    print(\"La lista está vaciía\")\n",
        "else:\n",
        "    print(\"La lista non está vacía\")\n",
        "\n",
        "lista.append(10)\n",
        "lista.append(20)\n",
        "lista.append(30)\n",
        "lista.append(40)\n",
        "lista.append(50)\n",
        "\n",
        "nodo = lista.get_tail()\n",
        "if nodo != None:\n",
        "    print(nodo.data)\n",
        "else:\n",
        "    print(\"La lista esta vacía\")\n",
        "\n",
        "lista.transversal()\n",
        "lista.remove(30)\n",
        "lista.transversal()\n",
        "lista.preppend(5)\n",
        "lista.transversal()"
      ],
      "execution_count": 43,
      "outputs": [
        {
          "output_type": "stream",
          "name": "stdout",
          "text": [
            "La lista está vaciía\n",
            "50\n",
            "| 10 | --> | 20 | --> | 30 | --> | 40 | --> | 50 | --> \n",
            "| 10 | --> | 20 | --> | 40 | --> | 50 | --> \n",
            "| 5 | --> | 10 | --> | 20 | --> | 40 | --> | 50 | --> \n"
          ]
        }
      ]
    }
  ]
}